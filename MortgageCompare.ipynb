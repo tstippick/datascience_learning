{
 "cells": [
  {
   "cell_type": "markdown",
   "metadata": {},
   "source": [
    "# Loan Comparison"
   ]
  },
  {
   "cell_type": "markdown",
   "metadata": {},
   "source": [
    "Things to compare\n",
    "Total cost of the loan over time.\n",
    "Monthly payment comparison.\n",
    "Time to get down to current balance.\n"
   ]
  },
  {
   "cell_type": "code",
   "execution_count": 12,
   "metadata": {},
   "outputs": [],
   "source": [
    "class mortgage(object):\n",
    "    def __init__(self, loan_amt, interest_rate, closing_costs, loan_length_yrs):\n",
    "        self.loan_amt = float(loan_amt)\n",
    "        self.interest_rate = float(interest_rate)\n",
    "        self.loan_length_yrs = int(loan_length_yrs)\n",
    "        self.closing_cost = closing_costs\n",
    "        self.pts_paid = 0\n",
    "        self.closing_cost_financed = 0\n",
    "        self.cash_at_close = 0\n",
    "        self.cost_pts_paid = 0\n",
    "        \n",
    "    def set_closing_costs(self, closing_cost):\n",
    "        self.closing_cost = closing_cost\n",
    "        \n",
    "    def set_closing_costs_financed(self, closing_cost_financed):\n",
    "        self.closing_cost_financed = closing_cost_financed\n",
    "        \n",
    "    def calculate_pts_paid(self,pts):\n",
    "        self.cost_pts_paid = self.loan_amt*pts/100   \n",
    "        \n",
    "    def calculate_cash_at_close(self):\n",
    "        self.cash_at_close = self.closing_cost - self.closing_cost_financed\n",
    "    \n",
    "    def calculate_total_cost_of_loan(self):\n",
    "        r = self.interest_rate/100\n",
    "        n = 12\n",
    "        t = self.loan_length_yrs\n",
    "        P = self.loan_amt\n",
    "        p = (r*P)/(n*(1-(1+r/n)**-(n*t)))\n",
    "        self.payment_amount = p\n",
    "        I = n*p*t - P\n",
    "        self.interest_paid = I\n",
    "        self.total_cost_of_financed_loan = P + I\n",
    "        \n",
    "    def calculate_loan_pv(self,rate):\n",
    "        self.pv_rate = rate\n",
    "        self.loan_pv = self.cash_at_close + self.payment_amount*12\n",
    "        for p in range(1,self.loan_length_yrs):\n",
    "            self.loan_pv = self.loan_pv + (self.payment_amount*12)/((1+rate/100)**p)\n",
    "    \n",
    "    def Print_Loan_Properties(self):\n",
    "        print(\"Total Amount Financed: \" + '${:0,.2f}'.format(self.loan_amt))\n",
    "        print(\"Closing Costs: \" + '${:0,.2f}'.format(self.closing_cost))\n",
    "        print(\"Cost of Points: \" + '${:0,.2f}'.format(self.cost_pts_paid))\n",
    "        print(\"Cash Due at Close: \" + '${:0,.2f}'.format(self.cash_at_close))\n",
    "        print(\"Total Interest Paid: \" + '${:0,.2f}'.format(self.interest_paid))\n",
    "        print(\"Total Loan Principal and Interest: \" + '${:0,.2f}'.format(self.total_cost_of_financed_loan))\n",
    "        print(\"Total Present Value Cost of Loan at {0:,.2f}% interest: \".format(self.pv_rate) + '${:0,.2f}'.format(self.loan_pv))\n",
    "        print(\"Monthly Payment Amount: \" + '${:0,.2f}'.format(self.payment_amount))\n",
    "    \n",
    "    \n",
    "    \n",
    "        \n",
    "        "
   ]
  },
  {
   "cell_type": "markdown",
   "metadata": {},
   "source": [
    "Questions:   \n",
    "1) Can additional payments to principal be made?  Loan says partial payments are not accepted.\n"
   ]
  },
  {
   "cell_type": "markdown",
   "metadata": {},
   "source": [
    "# Loan Pal Mortgage (3.125%)"
   ]
  },
  {
   "cell_type": "code",
   "execution_count": 19,
   "metadata": {},
   "outputs": [
    {
     "name": "stdout",
     "output_type": "stream",
     "text": [
      "Total Amount Financed: $328,750.00\n",
      "Closing Costs: $10,243.02\n",
      "Cost of Points: $3,287.50\n",
      "Cash Due at Close: $0.00\n",
      "Total Interest Paid: $178,232.35\n",
      "Total Loan Principal and Interest: $506,982.35\n",
      "Total Present Value Cost of Loan at 2.00% interest: $386,056.66\n",
      "Monthly Payment Amount: $1,408.28\n"
     ]
    }
   ],
   "source": [
    "loanpal = mortgage(328750,3.125,10243.02,30)\n",
    "loanpal.set_closing_costs_financed(10243.02)\n",
    "loanpal.calculate_cash_at_close()\n",
    "loanpal.calculate_pts_paid(1)\n",
    "loanpal.calculate_total_cost_of_loan()\n",
    "loanpal.calculate_loan_pv(2)\n",
    "loanpal.Print_Loan_Properties()\n"
   ]
  },
  {
   "cell_type": "markdown",
   "metadata": {},
   "source": [
    "# Loan Pal Mortgage (3.5%) **NOT Complete"
   ]
  },
  {
   "cell_type": "code",
   "execution_count": 14,
   "metadata": {},
   "outputs": [
    {
     "name": "stdout",
     "output_type": "stream",
     "text": [
      "Total Amount Financed: $328,750.00\n",
      "Closing Costs: $10,243.02\n",
      "Cost of Points: $0.00\n",
      "Cash Due at Close: $3,251.14\n",
      "Total Interest Paid: $202,694.39\n",
      "Total Loan Principal and Interest: $531,444.39\n",
      "Total Present Value Cost of Loan at 1.00% interest: $465,001.65\n",
      "Monthly Payment Amount: $1,476.23\n"
     ]
    }
   ],
   "source": [
    "loanpal = mortgage(328750,3.5,10243.02,30)\n",
    "loanpal.set_closing_costs_financed(6991.88)\n",
    "loanpal.calculate_cash_at_close()\n",
    "loanpal.calculate_pts_paid(0)\n",
    "loanpal.calculate_total_cost_of_loan()\n",
    "loanpal.calculate_loan_pv(1)\n",
    "loanpal.Print_Loan_Properties()\n"
   ]
  },
  {
   "cell_type": "markdown",
   "metadata": {},
   "source": [
    "# Union Home Mortgage (Current)"
   ]
  },
  {
   "cell_type": "code",
   "execution_count": 15,
   "metadata": {},
   "outputs": [
    {
     "name": "stdout",
     "output_type": "stream",
     "text": [
      "Total Amount Financed: $320,000.00\n",
      "Closing Costs: $0.00\n",
      "Cost of Points: $0.00\n",
      "Cash Due at Close: $0.00\n",
      "Total Interest Paid: $307,880.05\n",
      "Total Loan Principal and Interest: $627,880.05\n",
      "Total Present Value Cost of Loan at 2.00% interest: $486,761.72\n",
      "Monthly Payment Amount: $1,868.69\n"
     ]
    }
   ],
   "source": [
    "current_UHM = mortgage(320000,5.5,0,28)\n",
    "current_UHM.calculate_total_cost_of_loan()\n",
    "current_UHM.calculate_loan_pv(2)\n",
    "current_UHM.Print_Loan_Properties()\n"
   ]
  },
  {
   "cell_type": "markdown",
   "metadata": {},
   "source": [
    "# USAA"
   ]
  },
  {
   "cell_type": "code",
   "execution_count": 17,
   "metadata": {},
   "outputs": [
    {
     "name": "stdout",
     "output_type": "stream",
     "text": [
      "Total Amount Financed: $330,000.00\n",
      "Closing Costs: $9,065.00\n",
      "Cost of Points: $4,125.00\n",
      "Cash Due at Close: $0.00\n",
      "Total Interest Paid: $187,025.11\n",
      "Total Loan Principal and Interest: $517,025.11\n",
      "Total Present Value Cost of Loan at 2.00% interest: $393,704.01\n",
      "Monthly Payment Amount: $1,436.18\n"
     ]
    }
   ],
   "source": [
    "loanpal = mortgage(330000,3.25,9065,30)\n",
    "loanpal.set_closing_costs_financed(9065)\n",
    "loanpal.calculate_cash_at_close()\n",
    "loanpal.calculate_pts_paid(1.25)\n",
    "loanpal.calculate_total_cost_of_loan()\n",
    "loanpal.calculate_loan_pv(2)\n",
    "loanpal.Print_Loan_Properties()"
   ]
  },
  {
   "cell_type": "markdown",
   "metadata": {},
   "source": [
    "# Present Value of a Solar Panel System"
   ]
  },
  {
   "cell_type": "code",
   "execution_count": 35,
   "metadata": {},
   "outputs": [],
   "source": [
    "class solar_panel(object):\n",
    "    def __init__(self,daily_pwr_generation, electricity_rate_per_kwh, life_yrs, interest_rate):\n",
    "        self.daily_pwr_generation = daily_pwr_generation\n",
    "        self.electricity_rate_per_kwh = electricity_rate_per_kwh\n",
    "        self.life_yrs = life_yrs\n",
    "        self.rate = interest_rate\n",
    "    \n",
    "    def calculate_pv_solar(self):\n",
    "        monthly_gen_money = self.daily_pwr_generation*self.electricity_rate_per_kwh*30\n",
    "        self.pv_solar = monthly_gen_money*12\n",
    "        for p in range(1,self.life_yrs):\n",
    "            self.pv_solar = self.pv_solar + (monthly_gen_money*12)/((1+self.rate/100)**p)\n",
    "            \n",
    "    def Print_Solar_Values(self):\n",
    "        print(\"Present Value of Solar System: \" + '${:0,.2f}'.format(self.pv_solar))     "
   ]
  },
  {
   "cell_type": "code",
   "execution_count": 38,
   "metadata": {},
   "outputs": [
    {
     "name": "stdout",
     "output_type": "stream",
     "text": [
      "Present Value of Solar System: $39,429.57\n"
     ]
    }
   ],
   "source": [
    "solar_sys = solar_panel(50,0.11,25,2)\n",
    "solar_sys.calculate_pv_solar()\n",
    "solar_sys.Print_Solar_Values()"
   ]
  },
  {
   "cell_type": "code",
   "execution_count": null,
   "metadata": {},
   "outputs": [],
   "source": []
  },
  {
   "cell_type": "code",
   "execution_count": null,
   "metadata": {},
   "outputs": [],
   "source": []
  }
 ],
 "metadata": {
  "kernelspec": {
   "display_name": "Python 3",
   "language": "python",
   "name": "python3"
  },
  "language_info": {
   "codemirror_mode": {
    "name": "ipython",
    "version": 3
   },
   "file_extension": ".py",
   "mimetype": "text/x-python",
   "name": "python",
   "nbconvert_exporter": "python",
   "pygments_lexer": "ipython3",
   "version": "3.7.6"
  }
 },
 "nbformat": 4,
 "nbformat_minor": 2
}
